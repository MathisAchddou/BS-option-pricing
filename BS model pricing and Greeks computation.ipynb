{
 "cells": [
  {
   "cell_type": "code",
   "execution_count": 2,
   "id": "be6cefd3",
   "metadata": {},
   "outputs": [],
   "source": [
    "#Project option pricing with Black Scholes Model to create an option PTF "
   ]
  },
  {
   "cell_type": "code",
   "execution_count": 1,
   "id": "d106097c",
   "metadata": {},
   "outputs": [],
   "source": [
    "import numpy as np\n",
    "from scipy import stats"
   ]
  },
  {
   "cell_type": "code",
   "execution_count": 2,
   "id": "cd8e0675",
   "metadata": {},
   "outputs": [
    {
     "name": "stderr",
     "output_type": "stream",
     "text": [
      "/Users/mathi2s/anaconda3/lib/python3.11/site-packages/py_lets_be_rational/numba_helper.py:10: NumbaDeprecationWarning: \u001b[1mThe 'nopython' keyword argument was not supplied to the 'numba.jit' decorator. The implicit default value for this argument is currently False, but it will be changed to True in Numba 0.59.0. See https://numba.readthedocs.io/en/stable/reference/deprecation.html#deprecation-of-object-mode-fall-back-behaviour-when-using-jit for details.\u001b[0m\n",
      "  return jit(*jit_args, **jit_kwargs)(fun)\n"
     ]
    }
   ],
   "source": [
    "from py_vollib.black_scholes import black_scholes as bs\n",
    "from py_vollib.black_scholes.greeks.analytical import delta, gamma, vega, theta, rho ;"
   ]
  },
  {
   "cell_type": "code",
   "execution_count": 75,
   "id": "a724bc42",
   "metadata": {},
   "outputs": [
    {
     "data": {
      "text/plain": [
       "(4.22578239296007, 4.2257823929600695)"
      ]
     },
     "execution_count": 75,
     "metadata": {},
     "output_type": "execute_result"
    }
   ],
   "source": [
    "#define variables\n",
    "r=0.05\n",
    "S=100\n",
    "K=110\n",
    "T=0.5\n",
    "sigma=0.25\n",
    "\n",
    "def blackScholes(r,S,K,T,sigma, type=\"c\"):\n",
    "    \"calculate BS option price for a dividendless european call/put at time 0\"\n",
    "    d1= (np.log(S/K) + (r + sigma**2/2)*T) / (sigma*np.sqrt(T))\n",
    "    d2= d1 - sigma*np.sqrt(T)\n",
    "    try:\n",
    "        if type==\"c\":\n",
    "            price= S* stats.norm.cdf(d1, 0, 1) - K*np.exp(-r*T)*stats.norm.cdf(d2, 0, 1)\n",
    "        elif type ==\"p\":\n",
    "            price = K*np.exp(-r*T)*stats.norm.cdf(-d2, 0, 1) - S*stats.norm.cdf(-d1, 0, 1)\n",
    "        return price , bs(type,S,K,T,r,sigma)\n",
    "\n",
    "    except:\n",
    "        print('Please confirm all option parameters above !')\n",
    "        \n",
    "(blackScholes(r,S,K,T,sigma,\"c\"))\n",
    " \n",
    "#we are comparing our results to check their relevency"
   ]
  },
  {
   "cell_type": "code",
   "execution_count": 64,
   "id": "797382cf",
   "metadata": {},
   "outputs": [],
   "source": [
    "#Delta measures the rate of change of the theoratical option value with respect to the underlying price\n",
    "\n",
    "def delta_calc(r,S,K,T,sigma, type=\"c\"):\n",
    "    \"calculate delta of an european option\"\n",
    "    d1= (np.log(S/K) + (r + sigma**2/2)*T) / (sigma*np.sqrt(T))\n",
    "    try:\n",
    "        if type==\"c\":\n",
    "            delta_calc = stats.norm.cdf(d1, 0, 1)\n",
    "        elif type ==\"p\":\n",
    "            delta_calc = -stats.norm.cdf(-d1, 0, 1)\n",
    "        return delta_calc, delta(type, S, K, T, r, sigma)\n",
    "    except:\n",
    "        print('Please confirm all option parameters above !')\n"
   ]
  },
  {
   "cell_type": "code",
   "execution_count": 65,
   "id": "27071cfc",
   "metadata": {},
   "outputs": [],
   "source": [
    "#Gamma measures the rate of change in the Delta with respect to changes in the underlying price\n",
    "\n",
    "def gamma_calc(r,S,K,T,sigma, type=\"c\"):\n",
    "    \"calculate gamma of a european option\"\n",
    "    d1= (np.log(S/K) + (r + sigma**2/2)*T) / (sigma*np.sqrt(T))\n",
    "    d2= d1 - sigma*np.sqrt(T)\n",
    "    try:\n",
    "        gamma_calc = stats.norm.pdf(d1, 0, 1) / (S*sigma*np.sqrt(T))\n",
    "        return gamma_calc, gamma(type, S, K, T, r, sigma)\n",
    "    except:\n",
    "        print('Please confirm all option parameters above !')\n"
   ]
  },
  {
   "cell_type": "code",
   "execution_count": 66,
   "id": "7230c14e",
   "metadata": {},
   "outputs": [],
   "source": [
    "#Vega measures sensitivity to volatility. Vega is the derivative of the option value with respect to the volatility of the underlying asset\n",
    "\n",
    "def vega_calc(r,S,K,T,sigma, type=\"c\"):\n",
    "    \"calculate vega of a european option\"\n",
    "    d1= (np.log(S/K) + (r + sigma**2/2)*T) / (sigma*np.sqrt(T))\n",
    "    try:\n",
    "        vega_calc = S * stats.norm.pdf(d1, 0 ,1) * np.sqrt(T) \n",
    "        return vega_calc*0.01, vega(type, S, K, T, r, sigma)\n",
    "    except:\n",
    "        print('Please confirm all option parameters above !')"
   ]
  },
  {
   "cell_type": "code",
   "execution_count": 67,
   "id": "a23362be",
   "metadata": {},
   "outputs": [],
   "source": [
    "#Theta measures the sensitivity of the value of the derivative to the passage of time - time decay\n",
    "\n",
    "def theta_calc(r,S,K,T,sigma, type=\"c\"):\n",
    "    \"calculate theta of a european option\"\n",
    "    d1= (np.log(S/K) + (r + sigma**2/2)*T) / (sigma*np.sqrt(T))\n",
    "    d2= d1 - sigma*np.sqrt(T)\n",
    "    try:\n",
    "        if type==\"c\":\n",
    "            theta_calc= -S* stats.norm.pdf(d1, 0, 1)* sigma/(2*np.sqrt(T)) - r*K*np.exp(-r*T)*stats.norm.pdf(d2, 0, 1)\n",
    "        elif type ==\"p\":\n",
    "            theta_calc= -S* stats.norm.pdf(d1, 0, 1)* sigma/(2*np.sqrt(T)) + r*K*np.exp(-r*T)*stats.norm.pdf(-d2, 0, 1)\n",
    "        return theta_calc/365, theta(type, S, K, T, r, sigma)\n",
    "    except:\n",
    "        print('Please confirm all option parameters above !')"
   ]
  },
  {
   "cell_type": "code",
   "execution_count": 68,
   "id": "ab7b6b06",
   "metadata": {},
   "outputs": [],
   "source": [
    "#Rho measure the sensitivity to the interest rate\n",
    "\n",
    "def rho_calc(r,S,K,T,sigma, type=\"c\"):\n",
    "    \"calculate rho of a european option\"\n",
    "    d1= (np.log(S/K) + (r + sigma**2/2)*T) / (sigma*np.sqrt(T))\n",
    "    d2= d1 - sigma*np.sqrt(T)\n",
    "    try:\n",
    "        if type==\"c\":\n",
    "            rho_calc= K*T*np.exp(-r*T)*stats.norm.cdf(d2, 0, 1)\n",
    "        elif type ==\"p\":\n",
    "            rho_calc= (-K)*T*np.exp(-r*T)*stats.norm.cdf(-d2, 0, 1)\n",
    "        return rho_calc*0.01, rho(type, S, K, T, r, sigma)\n",
    "    except:\n",
    "        print('Please confirm all option parameters above !')"
   ]
  },
  {
   "cell_type": "code",
   "execution_count": 71,
   "id": "c7b49613",
   "metadata": {},
   "outputs": [
    {
     "name": "stdout",
     "output_type": "stream",
     "text": [
      "Option Price:  [4.226, 4.226]\n",
      "       Delta:  [0.379, 0.379]\n",
      "       Gamma:  [0.022, 0.022]\n",
      "       Vega:   [0.269, 0.269]\n",
      "       Theta:  [-0.024, -0.023]\n",
      "       Rho:    [0.168, 0.168]\n"
     ]
    }
   ],
   "source": [
    "#All together\n",
    "option_type = 'c'\n",
    "\n",
    "print('Option Price: ', [round(x,3) for x in blackScholes(r,S,K,T,sigma, option_type)])\n",
    "print('       Delta: ', [round(x,3) for x in delta_calc(r,S,K,T,sigma, option_type)])\n",
    "print('       Gamma: ', [round(x,3) for x in gamma_calc(r,S,K,T,sigma, option_type)])\n",
    "print('       Vega:  ', [round(x,3) for x in vega_calc(r,S,K,T,sigma, option_type)])\n",
    "print('       Theta: ', [round(x,3) for x in theta_calc(r,S,K,T,sigma, option_type)])\n",
    "print('       Rho:   ', [round(x,3) for x in rho_calc(r,S,K,T,sigma, option_type)])"
   ]
  }
 ],
 "metadata": {
  "kernelspec": {
   "display_name": "Python 3 (ipykernel)",
   "language": "python",
   "name": "python3"
  },
  "language_info": {
   "codemirror_mode": {
    "name": "ipython",
    "version": 3
   },
   "file_extension": ".py",
   "mimetype": "text/x-python",
   "name": "python",
   "nbconvert_exporter": "python",
   "pygments_lexer": "ipython3",
   "version": "3.11.5"
  }
 },
 "nbformat": 4,
 "nbformat_minor": 5
}
